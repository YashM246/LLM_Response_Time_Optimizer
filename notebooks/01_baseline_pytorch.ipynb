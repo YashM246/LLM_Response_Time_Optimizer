{
 "cells": [
  {
   "cell_type": "code",
   "execution_count": 1,
   "id": "15823ee8",
   "metadata": {},
   "outputs": [],
   "source": [
    "from transformers import AutoModelForCausalLM\n",
    "from transformers import AutoTokenizer\n",
    "import torch\n",
    "import time\n",
    "import json\n",
    "import transformers"
   ]
  },
  {
   "cell_type": "code",
   "execution_count": 2,
   "id": "1e41cb13",
   "metadata": {},
   "outputs": [
    {
     "name": "stdout",
     "output_type": "stream",
     "text": [
      "True\n"
     ]
    }
   ],
   "source": [
    "print(torch.cuda.is_available())"
   ]
  },
  {
   "cell_type": "markdown",
   "id": "4af5f80f",
   "metadata": {},
   "source": [
    "### Load Mistral 7B"
   ]
  },
  {
   "cell_type": "code",
   "execution_count": 5,
   "id": "f237b50e",
   "metadata": {},
   "outputs": [
    {
     "name": "stderr",
     "output_type": "stream",
     "text": [
      "The `load_in_4bit` and `load_in_8bit` arguments are deprecated and will be removed in the future versions. Please, pass a `BitsAndBytesConfig` object in `quantization_config` argument instead.\n"
     ]
    },
    {
     "data": {
      "application/vnd.jupyter.widget-view+json": {
       "model_id": "a6ba51ba85bb46fda28c6a1098eb2e6f",
       "version_major": 2,
       "version_minor": 0
      },
      "text/plain": [
       "Loading checkpoint shards:   0%|          | 0/3 [00:00<?, ?it/s]"
      ]
     },
     "metadata": {},
     "output_type": "display_data"
    }
   ],
   "source": [
    "model_name = \"mistralai/Mistral-7B-Instruct-v0.2\"\n",
    "tokenizer = AutoTokenizer.from_pretrained(model_name)\n",
    "model = AutoModelForCausalLM.from_pretrained(\n",
    "    model_name,\n",
    "    load_in_4bit=True,\n",
    "    device_map='auto'\n",
    ")"
   ]
  },
  {
   "cell_type": "code",
   "execution_count": 9,
   "id": "3620b0ac",
   "metadata": {},
   "outputs": [],
   "source": [
    "def generate_text(prompt, max_new_tokens=500):\n",
    "    inputs = tokenizer(prompt, return_tensors=\"pt\").to(model.device)\n",
    "\n",
    "    with torch.no_grad():\n",
    "        outputs = model.generate(\n",
    "            **inputs,\n",
    "            max_new_tokens=max_new_tokens,\n",
    "            do_sample = False\n",
    "            # Keep Deterministic for Comparison Purposes\n",
    "        )\n",
    "    \n",
    "    return tokenizer.decode(outputs[0], skip_special_tokens=True) "
   ]
  },
  {
   "cell_type": "code",
   "execution_count": 10,
   "id": "b12c656d",
   "metadata": {},
   "outputs": [],
   "source": [
    "# Test Prompts\n",
    "prompts = [\n",
    "    \"Explain quantum computing in simple terms.\",\n",
    "    \"Write a python function to calculate fibonacci.\",\n",
    "    \"What is machine learning?\"\n",
    "]"
   ]
  },
  {
   "cell_type": "code",
   "execution_count": 11,
   "id": "e6a30ff9",
   "metadata": {},
   "outputs": [
    {
     "name": "stderr",
     "output_type": "stream",
     "text": [
      "Setting `pad_token_id` to `eos_token_id`:2 for open-end generation.\n",
      "Setting `pad_token_id` to `eos_token_id`:2 for open-end generation.\n"
     ]
    },
    {
     "name": "stdout",
     "output_type": "stream",
     "text": [
      "Prompt: Explain quantum computing in simple terms....\n",
      "Latency: 13.69s\n",
      "Output: Explain quantum computing in simple terms. Quantum computing is a type of computing that uses quantum bits, or qubits, instead of classical bits to process information. Qubits can exist in multiple states at once, allowing quantum computers to perform many calculations simultaneously. This property, known as superposition, enables quantum computers to solve certain problems much faster than classical computers. Additionally, quantum computers can also use a phenomenon called entanglement, where qubits become interconnected and their states influence each other, even when separated by large distances. This allows quantum computers to perform certain calculations that are impossible for classical computers. Overall, quantum computing has the potential to revolutionize fields such as cryptography, optimization, and materials science, but it is still a complex and developing technology.\n",
      "\n"
     ]
    },
    {
     "name": "stderr",
     "output_type": "stream",
     "text": [
      "Setting `pad_token_id` to `eos_token_id`:2 for open-end generation.\n"
     ]
    },
    {
     "name": "stdout",
     "output_type": "stream",
     "text": [
      "Prompt: Write a python function to calculate fibonacci....\n",
      "Latency: 18.08s\n",
      "Output: Write a python function to calculate fibonacci.\n",
      "\n",
      "Here's a simple Python function to calculate Fibonacci numbers:\n",
      "\n",
      "```python\n",
      "def fibonacci(n):\n",
      "    if n <= 0:\n",
      "        print(\"Input should be a positive integer.\")\n",
      "        return None\n",
      "    elif n == 1:\n",
      "        return 0\n",
      "    elif n == 2:\n",
      "        return 1\n",
      "    else:\n",
      "        a, b = 0, 1\n",
      "        for _ in range(n - 2):\n",
      "            a, b = b, a + b\n",
      "        return b\n",
      "```\n",
      "\n",
      "This function takes an integer `n` as an argument and returns the `n`th Fibonacci number. The base cases are for `n` being 0, 1, or 2, and for larger values, it uses a loop to calculate the Fibonacci number recursively.\n",
      "\n",
      "Here's an example usage:\n",
      "\n",
      "```python\n",
      "print(fibonacci(10))  # Output: 34\n",
      "```\n",
      "\n",
      "Prompt: What is machine learning?...\n",
      "Latency: 42.28s\n",
      "Output: What is machine learning?\n",
      "\n",
      "Machine learning is a subset of artificial intelligence (AI) that provides systems the ability to automatically learn and improve from experience without being explicitly programmed. It focuses on the development of computer programs that can access data and use it to learn for themselves.\n",
      "\n",
      "The process of learning begins with observations or data, such as examples, direct experience, or instruction, in order to look for patterns in data and make better decisions in the future based on the examples that we provide. The primary aim is to allow the computers to learn automatically without human intervention or assistance and to build a model that can make decisions and predictions about new data.\n",
      "\n",
      "Machine learning is a type of artificial intelligence (AI) that uses statistical techniques to give computer systems the ability to improve their performance on a specific task over time. It’s a branch of AI based on the idea that systems can learn from data, identify patterns and make decisions with minimal human intervention.\n",
      "\n",
      "Machine learning algorithms are designed to perform a certain task, such as email filtering, speech recognition, or driving a car, by learning from data. The data used for training these algorithms can come from various sources, such as historical records, sensor data, or human input.\n",
      "\n",
      "Machine learning algorithms can be broadly classified into three categories:\n",
      "\n",
      "1. Supervised learning: In supervised learning, the algorithm is provided with labeled data, which means that the data comes with an answer or a target value. The algorithm uses this data to learn the relationship between the input and the output, and then uses this knowledge to make predictions about new data.\n",
      "\n",
      "2. Unsupervised learning: In unsupervised learning, the algorithm is provided with unlabeled data, which means that the data does not come with an answer or a target value. The algorithm uses this data to find patterns and relationships on its own, and then uses this knowledge to cluster or group the data into meaningful categories.\n",
      "\n",
      "3. Reinforcement learning: In reinforcement learning, the algorithm learns by interacting with its environment and receiving rewards or penalties for its actions. The algorithm uses this feedback to learn which actions lead to the best outcomes and adjusts its behavior accordingly.\n",
      "\n",
      "Machine learning is used in a wide range of applications, including image and speech recognition, natural language processing, fraud detection, recommendation systems, and autonomous vehicles. It’s a powerful tool that can help businesses and organizations make better decisions, improve processes\n",
      "\n",
      "Average latency: 24.68s\n",
      "GPU Memory allocated: 4.18 GB\n",
      "GPU Memory reserved: 4.69 GB\n"
     ]
    }
   ],
   "source": [
    "# Measure latency\n",
    "times = []\n",
    "outputs = []\n",
    "for prompt in prompts:\n",
    "    start = time.time()\n",
    "    output = generate_text(prompt)\n",
    "    latency = time.time()-start\n",
    "    times.append(latency)\n",
    "    outputs.append(output)\n",
    "    print(f\"Prompt: {prompt}...\")\n",
    "    print(f\"Latency: {latency:.2f}s\")\n",
    "    print(f\"Output: {output}\\n\")\n",
    "\n",
    "print(f\"Average latency: {sum(times)/len(times):.2f}s\")\n",
    "\n",
    "# Measure Memory\n",
    "print(f\"GPU Memory allocated: {torch.cuda.memory_allocated()/1023**3:.2f} GB\")\n",
    "print(f\"GPU Memory reserved: {torch.cuda.memory_reserved()/1023**3:.2f} GB\")\n",
    "\n",
    "baseline_outputs = {\n",
    "    \"model\": model_name,\n",
    "    \"prompts\": prompts,\n",
    "    \"outputs\": outputs,\n",
    "    \"avg_latency\": sum(times)/len(times),\n",
    "    \"Memory_GB\": torch.cuda.memory_allocated()/1023**3\n",
    "}\n",
    "\n",
    "with open(\"../benchmarks/results/pytorch_baseline.json\", \"w\") as f:\n",
    "    json.dump(baseline_outputs, f, indent=4)"
   ]
  },
  {
   "cell_type": "code",
   "execution_count": null,
   "id": "18868078",
   "metadata": {},
   "outputs": [],
   "source": []
  }
 ],
 "metadata": {
  "kernelspec": {
   "display_name": "venv",
   "language": "python",
   "name": "python3"
  },
  "language_info": {
   "codemirror_mode": {
    "name": "ipython",
    "version": 3
   },
   "file_extension": ".py",
   "mimetype": "text/x-python",
   "name": "python",
   "nbconvert_exporter": "python",
   "pygments_lexer": "ipython3",
   "version": "3.13.7"
  }
 },
 "nbformat": 4,
 "nbformat_minor": 5
}
